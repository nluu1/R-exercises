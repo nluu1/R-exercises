{
 "cells": [
  {
   "cell_type": "markdown",
   "id": "24bfbe3c",
   "metadata": {},
   "source": [
    "## Creating Lists"
   ]
  },
  {
   "cell_type": "code",
   "execution_count": 1,
   "id": "c6e3640d",
   "metadata": {},
   "outputs": [
    {
     "data": {
      "text/plain": [
       "[3, 4, 56, 87, 92]"
      ]
     },
     "execution_count": 1,
     "metadata": {},
     "output_type": "execute_result"
    }
   ],
   "source": [
    "mylist = [3, 4 ,56, 87, 92]\n",
    "mylist"
   ]
  },
  {
   "cell_type": "code",
   "execution_count": 2,
   "id": "73cb7850",
   "metadata": {},
   "outputs": [
    {
     "data": {
      "text/plain": [
       "list"
      ]
     },
     "execution_count": 2,
     "metadata": {},
     "output_type": "execute_result"
    }
   ],
   "source": [
    "type(mylist)"
   ]
  },
  {
   "cell_type": "code",
   "execution_count": 3,
   "id": "87b52f61",
   "metadata": {},
   "outputs": [
    {
     "data": {
      "text/plain": [
       "[0, 1, 2, 3, 4, 5, 6, 7, 8, 9, 10, 11, 12, 13, 14]"
      ]
     },
     "execution_count": 3,
     "metadata": {},
     "output_type": "execute_result"
    }
   ],
   "source": [
    "list(range(15)) #python 3"
   ]
  },
  {
   "cell_type": "markdown",
   "id": "a39e06ae",
   "metadata": {},
   "source": [
    "--------------"
   ]
  },
  {
   "cell_type": "markdown",
   "id": "3f013206",
   "metadata": {},
   "source": [
    "## Locating within lists"
   ]
  },
  {
   "cell_type": "code",
   "execution_count": 4,
   "id": "f74859bd",
   "metadata": {},
   "outputs": [],
   "source": [
    "w = ['a', 'b', 'c', 'd', 'e']"
   ]
  },
  {
   "cell_type": "code",
   "execution_count": 5,
   "id": "789f1fb1",
   "metadata": {},
   "outputs": [],
   "source": [
    "#--   0    1    2    3    4\n",
    "\n",
    "#--   -5  -4   -3   -2   -1"
   ]
  },
  {
   "cell_type": "code",
   "execution_count": 6,
   "id": "aa8c1db6",
   "metadata": {},
   "outputs": [
    {
     "data": {
      "text/plain": [
       "'a'"
      ]
     },
     "execution_count": 6,
     "metadata": {},
     "output_type": "execute_result"
    }
   ],
   "source": [
    "w[0]"
   ]
  },
  {
   "cell_type": "code",
   "execution_count": 7,
   "id": "b7f27db7",
   "metadata": {},
   "outputs": [
    {
     "data": {
      "text/plain": [
       "'d'"
      ]
     },
     "execution_count": 7,
     "metadata": {},
     "output_type": "execute_result"
    }
   ],
   "source": [
    "w[3]"
   ]
  },
  {
   "cell_type": "code",
   "execution_count": 8,
   "id": "12093b9b",
   "metadata": {},
   "outputs": [
    {
     "data": {
      "text/plain": [
       "'e'"
      ]
     },
     "execution_count": 8,
     "metadata": {},
     "output_type": "execute_result"
    }
   ],
   "source": [
    "w[-1]  ## IN R, the negative number will EXCLUDE the number from the list"
   ]
  },
  {
   "cell_type": "code",
   "execution_count": 9,
   "id": "127f1365",
   "metadata": {},
   "outputs": [
    {
     "data": {
      "text/plain": [
       "'c'"
      ]
     },
     "execution_count": 9,
     "metadata": {},
     "output_type": "execute_result"
    }
   ],
   "source": [
    "w[-3]"
   ]
  },
  {
   "cell_type": "code",
   "execution_count": 10,
   "id": "7e9347c8",
   "metadata": {},
   "outputs": [
    {
     "data": {
      "text/plain": [
       "['a', 'b', 3, 'd', 'e']"
      ]
     },
     "execution_count": 10,
     "metadata": {},
     "output_type": "execute_result"
    }
   ],
   "source": [
    "w[2] = 3  ## Change value in a list\n",
    "w"
   ]
  },
  {
   "cell_type": "markdown",
   "id": "aebe1d3d",
   "metadata": {},
   "source": [
    "--------------"
   ]
  },
  {
   "cell_type": "markdown",
   "id": "8cf184f3",
   "metadata": {},
   "source": [
    "## Slicing"
   ]
  },
  {
   "cell_type": "code",
   "execution_count": 11,
   "id": "72fc3b42",
   "metadata": {},
   "outputs": [],
   "source": [
    "letters = ['A','B','C','D','E','F','G','H','I','J']"
   ]
  },
  {
   "cell_type": "code",
   "execution_count": 12,
   "id": "6bfadded",
   "metadata": {},
   "outputs": [],
   "source": [
    "# letters [ start : end : step ]"
   ]
  },
  {
   "cell_type": "code",
   "execution_count": 13,
   "id": "03fc4b91",
   "metadata": {},
   "outputs": [
    {
     "data": {
      "text/plain": [
       "['C', 'D', 'E', 'F', 'G', 'H', 'I', 'J']"
      ]
     },
     "execution_count": 13,
     "metadata": {},
     "output_type": "execute_result"
    }
   ],
   "source": [
    "letters [2:]"
   ]
  },
  {
   "cell_type": "code",
   "execution_count": 14,
   "id": "aed64751",
   "metadata": {},
   "outputs": [
    {
     "data": {
      "text/plain": [
       "['A', 'B', 'C', 'D', 'E', 'F', 'G']"
      ]
     },
     "execution_count": 14,
     "metadata": {},
     "output_type": "execute_result"
    }
   ],
   "source": [
    "letters [:7]"
   ]
  },
  {
   "cell_type": "code",
   "execution_count": 15,
   "id": "d0d18d4f",
   "metadata": {},
   "outputs": [
    {
     "data": {
      "text/plain": [
       "['C', 'D', 'E', 'F', 'G']"
      ]
     },
     "execution_count": 15,
     "metadata": {},
     "output_type": "execute_result"
    }
   ],
   "source": [
    "letters [2:7]"
   ]
  },
  {
   "cell_type": "code",
   "execution_count": 16,
   "id": "bd3ac8c3",
   "metadata": {},
   "outputs": [
    {
     "data": {
      "text/plain": [
       "['C', 'D', 'E', 'F', 'G']"
      ]
     },
     "execution_count": 16,
     "metadata": {},
     "output_type": "execute_result"
    }
   ],
   "source": [
    "letters [-8:7]"
   ]
  },
  {
   "cell_type": "code",
   "execution_count": 17,
   "id": "92466934",
   "metadata": {},
   "outputs": [
    {
     "data": {
      "text/plain": [
       "['C', 'D', 'E', 'F', 'G']"
      ]
     },
     "execution_count": 17,
     "metadata": {},
     "output_type": "execute_result"
    }
   ],
   "source": [
    "letters [-8:-3]"
   ]
  },
  {
   "cell_type": "code",
   "execution_count": 18,
   "id": "e5d066b0",
   "metadata": {},
   "outputs": [
    {
     "data": {
      "text/plain": [
       "['C', 'E', 'G', 'I']"
      ]
     },
     "execution_count": 18,
     "metadata": {},
     "output_type": "execute_result"
    }
   ],
   "source": [
    "#--- Advanced slicing\n",
    "\n",
    "letters [2:9:2]  #-- slice at 2 to 9 with STEP OF 2"
   ]
  },
  {
   "cell_type": "code",
   "execution_count": 19,
   "id": "1750ce1a",
   "metadata": {},
   "outputs": [
    {
     "data": {
      "text/plain": [
       "['A', 'D', 'G', 'J']"
      ]
     },
     "execution_count": 19,
     "metadata": {},
     "output_type": "execute_result"
    }
   ],
   "source": [
    "letters [::3]"
   ]
  },
  {
   "cell_type": "code",
   "execution_count": 20,
   "id": "786589e1",
   "metadata": {},
   "outputs": [
    {
     "data": {
      "text/plain": [
       "['J', 'I', 'H', 'G', 'F', 'E', 'D', 'C', 'B', 'A']"
      ]
     },
     "execution_count": 20,
     "metadata": {},
     "output_type": "execute_result"
    }
   ],
   "source": [
    "letters [::-1]"
   ]
  },
  {
   "cell_type": "code",
   "execution_count": 21,
   "id": "93f3a367",
   "metadata": {},
   "outputs": [
    {
     "data": {
      "text/plain": [
       "['C', 'D', 'E', 'F', 'G']"
      ]
     },
     "execution_count": 21,
     "metadata": {},
     "output_type": "execute_result"
    }
   ],
   "source": [
    "letters [2:7:1]"
   ]
  },
  {
   "cell_type": "code",
   "execution_count": 22,
   "id": "0a9fe3e0",
   "metadata": {},
   "outputs": [
    {
     "data": {
      "text/plain": [
       "[]"
      ]
     },
     "execution_count": 22,
     "metadata": {},
     "output_type": "execute_result"
    }
   ],
   "source": [
    "letters [2:7:-1]"
   ]
  },
  {
   "cell_type": "code",
   "execution_count": 23,
   "id": "5505a25c",
   "metadata": {},
   "outputs": [
    {
     "data": {
      "text/plain": [
       "['G', 'F', 'E', 'D', 'C']"
      ]
     },
     "execution_count": 23,
     "metadata": {},
     "output_type": "execute_result"
    }
   ],
   "source": [
    "letters[6:1:-1] #remember the end number is not inclusinve, hence the 1"
   ]
  },
  {
   "cell_type": "markdown",
   "id": "8448e871",
   "metadata": {},
   "source": [
    "--------------"
   ]
  },
  {
   "cell_type": "markdown",
   "id": "c1b376d4",
   "metadata": {},
   "source": [
    "## Tuples - immutable list (not changable)"
   ]
  },
  {
   "cell_type": "code",
   "execution_count": 24,
   "id": "95796080",
   "metadata": {},
   "outputs": [],
   "source": [
    "t1 = (35, 674, 934)"
   ]
  },
  {
   "cell_type": "code",
   "execution_count": 25,
   "id": "1f64be93",
   "metadata": {},
   "outputs": [
    {
     "data": {
      "text/plain": [
       "(35, 674, 934)"
      ]
     },
     "execution_count": 25,
     "metadata": {},
     "output_type": "execute_result"
    }
   ],
   "source": [
    "t1"
   ]
  },
  {
   "cell_type": "code",
   "execution_count": 26,
   "id": "dafd7403",
   "metadata": {},
   "outputs": [
    {
     "data": {
      "text/plain": [
       "35"
      ]
     },
     "execution_count": 26,
     "metadata": {},
     "output_type": "execute_result"
    }
   ],
   "source": [
    "t1[0]"
   ]
  },
  {
   "cell_type": "code",
   "execution_count": 27,
   "id": "e1ef9697",
   "metadata": {},
   "outputs": [
    {
     "ename": "TypeError",
     "evalue": "'tuple' object does not support item assignment",
     "output_type": "error",
     "traceback": [
      "\u001b[1;31m---------------------------------------------------------------------------\u001b[0m",
      "\u001b[1;31mTypeError\u001b[0m                                 Traceback (most recent call last)",
      "\u001b[1;32m~\\AppData\\Local\\Temp/ipykernel_1956/2708270998.py\u001b[0m in \u001b[0;36m<module>\u001b[1;34m\u001b[0m\n\u001b[1;32m----> 1\u001b[1;33m \u001b[0mt1\u001b[0m\u001b[1;33m[\u001b[0m\u001b[1;36m0\u001b[0m\u001b[1;33m]\u001b[0m \u001b[1;33m=\u001b[0m \u001b[1;36m1\u001b[0m\u001b[1;33m\u001b[0m\u001b[1;33m\u001b[0m\u001b[0m\n\u001b[0m",
      "\u001b[1;31mTypeError\u001b[0m: 'tuple' object does not support item assignment"
     ]
    }
   ],
   "source": [
    "t1[0] = 1"
   ]
  },
  {
   "cell_type": "markdown",
   "id": "c7413e07",
   "metadata": {},
   "source": [
    "--------------"
   ]
  },
  {
   "cell_type": "markdown",
   "id": "57966fd3",
   "metadata": {},
   "source": [
    "## Functions"
   ]
  },
  {
   "cell_type": "code",
   "execution_count": null,
   "id": "681c7ad7",
   "metadata": {},
   "outputs": [],
   "source": [
    "range(20,31)"
   ]
  },
  {
   "cell_type": "code",
   "execution_count": null,
   "id": "1b09d760",
   "metadata": {},
   "outputs": [],
   "source": [
    "list(range(20,31))"
   ]
  },
  {
   "cell_type": "code",
   "execution_count": null,
   "id": "0832d41f",
   "metadata": {},
   "outputs": [],
   "source": [
    "mylist1 = list(range(20,31))"
   ]
  },
  {
   "cell_type": "code",
   "execution_count": null,
   "id": "c98b0855",
   "metadata": {},
   "outputs": [],
   "source": [
    "mylist1"
   ]
  },
  {
   "cell_type": "code",
   "execution_count": null,
   "id": "5e589fd7",
   "metadata": {},
   "outputs": [],
   "source": [
    "print(mylist1)"
   ]
  },
  {
   "cell_type": "code",
   "execution_count": null,
   "id": "ee5b5409",
   "metadata": {},
   "outputs": [],
   "source": [
    "len(mylist1)"
   ]
  },
  {
   "cell_type": "code",
   "execution_count": null,
   "id": "53aecacb",
   "metadata": {},
   "outputs": [],
   "source": [
    "type(mylist1)"
   ]
  },
  {
   "cell_type": "code",
   "execution_count": null,
   "id": "c6ae8e88",
   "metadata": {},
   "outputs": [],
   "source": [
    "max(mylist1)"
   ]
  },
  {
   "cell_type": "code",
   "execution_count": null,
   "id": "d070f174",
   "metadata": {},
   "outputs": [],
   "source": [
    "min(mylist1)"
   ]
  },
  {
   "cell_type": "markdown",
   "id": "f47aff7f",
   "metadata": {},
   "source": [
    "--------------"
   ]
  },
  {
   "cell_type": "markdown",
   "id": "bfd45e5a",
   "metadata": {},
   "source": [
    "## Packages"
   ]
  },
  {
   "cell_type": "code",
   "execution_count": null,
   "id": "322cc164",
   "metadata": {},
   "outputs": [],
   "source": [
    "#-- Module: a file cnotaining Python definitions, functions, and statesments. Pytting code into modules to import module functionality into script\n",
    "\n",
    "#-- Package: a collection of module. Such as complex package like Numpy."
   ]
  },
  {
   "cell_type": "markdown",
   "id": "88939967",
   "metadata": {},
   "source": [
    "### Step 1: Find Package\n",
    "- from GitHub\n",
    "- Other safe sources\n",
    "\n",
    "\n",
    "### Step 2: Install Package\n",
    "- Windows: Anaconda Command Prompt\n",
    "\n",
    "use either conda install packagename\n",
    "OR\n",
    "pip install packagename\n",
    "\n",
    "- Locate the available package from Anaconda\n",
    "\n",
    "### Step 3: Import package OR the function in the package\n"
   ]
  },
  {
   "cell_type": "code",
   "execution_count": 37,
   "id": "26396066",
   "metadata": {},
   "outputs": [],
   "source": [
    "import numpy as np"
   ]
  },
  {
   "cell_type": "markdown",
   "id": "14cf9a1c",
   "metadata": {},
   "source": [
    "--------------"
   ]
  },
  {
   "cell_type": "markdown",
   "id": "b7f4484d",
   "metadata": {},
   "source": [
    "## Arrays - similar but different from lists\n",
    "\n",
    "Array is like a vector in R, it cannot not ave different data types in the same array. It will be autimatically converted to the same data type that takes higher priority\n",
    "\n",
    "\n",
    "There are 2 types of arrays\n",
    "- array\n",
    "- numpy "
   ]
  },
  {
   "cell_type": "code",
   "execution_count": 38,
   "id": "8c8e1ea1",
   "metadata": {},
   "outputs": [
    {
     "data": {
      "text/plain": [
       "[2345, 27, 546, 215, -1234]"
      ]
     },
     "execution_count": 38,
     "metadata": {},
     "output_type": "execute_result"
    }
   ],
   "source": [
    "l = [2345, 27, 546, 215, -1234]\n",
    "l"
   ]
  },
  {
   "cell_type": "code",
   "execution_count": 39,
   "id": "b53c1ff3",
   "metadata": {},
   "outputs": [
    {
     "data": {
      "text/plain": [
       "array([ 2345,    27,   546,   215, -1234])"
      ]
     },
     "execution_count": 39,
     "metadata": {},
     "output_type": "execute_result"
    }
   ],
   "source": [
    "a = np.array(l)\n",
    "a"
   ]
  },
  {
   "cell_type": "code",
   "execution_count": 40,
   "id": "8dd6f070",
   "metadata": {},
   "outputs": [
    {
     "data": {
      "text/plain": [
       "[2345, 546, 215, -1234]"
      ]
     },
     "execution_count": 40,
     "metadata": {},
     "output_type": "execute_result"
    }
   ],
   "source": [
    "l.pop(1) #-- call a function to apply on the list l\n",
    "l # the number 27 at index 1 is now popped form the array becus of the pop function"
   ]
  },
  {
   "cell_type": "code",
   "execution_count": 41,
   "id": "19872e3d",
   "metadata": {},
   "outputs": [
    {
     "data": {
      "text/plain": [
       "379.8"
      ]
     },
     "execution_count": 41,
     "metadata": {},
     "output_type": "execute_result"
    }
   ],
   "source": [
    "a.mean()"
   ]
  },
  {
   "cell_type": "markdown",
   "id": "25bf891c",
   "metadata": {},
   "source": [
    "## Slicing arrays"
   ]
  },
  {
   "cell_type": "code",
   "execution_count": 44,
   "id": "28f09c01",
   "metadata": {},
   "outputs": [
    {
     "data": {
      "text/plain": [
       "[27, 546, 215, -1234]"
      ]
     },
     "execution_count": 44,
     "metadata": {},
     "output_type": "execute_result"
    }
   ],
   "source": [
    "#----- THIS IS A LIST O\n",
    "\n",
    "o = [2345, 27, 546, 215, -1234]\n",
    "\n",
    "o[1:]"
   ]
  },
  {
   "cell_type": "code",
   "execution_count": 46,
   "id": "691c4ec1",
   "metadata": {},
   "outputs": [
    {
     "data": {
      "text/plain": [
       "[2345, 27]"
      ]
     },
     "execution_count": 46,
     "metadata": {},
     "output_type": "execute_result"
    }
   ],
   "source": [
    "o[0:2]"
   ]
  },
  {
   "cell_type": "code",
   "execution_count": 47,
   "id": "73f9ea08",
   "metadata": {},
   "outputs": [
    {
     "data": {
      "text/plain": [
       "[2345, 546, -1234]"
      ]
     },
     "execution_count": 47,
     "metadata": {},
     "output_type": "execute_result"
    }
   ],
   "source": [
    "o[::2]"
   ]
  },
  {
   "cell_type": "code",
   "execution_count": 73,
   "id": "0f18a92d",
   "metadata": {},
   "outputs": [
    {
     "data": {
      "text/plain": [
       "[546, 215, -1234]"
      ]
     },
     "execution_count": 73,
     "metadata": {},
     "output_type": "execute_result"
    }
   ],
   "source": [
    "o[2:]"
   ]
  },
  {
   "cell_type": "code",
   "execution_count": 78,
   "id": "d844e687",
   "metadata": {},
   "outputs": [],
   "source": [
    "u = o[2:4]"
   ]
  },
  {
   "cell_type": "code",
   "execution_count": 83,
   "id": "39f59456",
   "metadata": {},
   "outputs": [
    {
     "data": {
      "text/plain": [
       "[111, 215]"
      ]
     },
     "execution_count": 83,
     "metadata": {},
     "output_type": "execute_result"
    }
   ],
   "source": [
    "# u[:] = 111  # error\n",
    "u[0] = 111\n",
    "u"
   ]
  },
  {
   "cell_type": "code",
   "execution_count": 84,
   "id": "124d4028",
   "metadata": {},
   "outputs": [
    {
     "data": {
      "text/plain": [
       "[2345, 27, 546, 215, -1234]"
      ]
     },
     "execution_count": 84,
     "metadata": {},
     "output_type": "execute_result"
    }
   ],
   "source": [
    "o    ### Changing u does not change the original list o"
   ]
  },
  {
   "cell_type": "markdown",
   "id": "12ec92af",
   "metadata": {},
   "source": [
    "----------------"
   ]
  },
  {
   "cell_type": "code",
   "execution_count": 69,
   "id": "fb65ed36",
   "metadata": {},
   "outputs": [
    {
     "data": {
      "text/plain": [
       "array([546, 215])"
      ]
     },
     "execution_count": 69,
     "metadata": {},
     "output_type": "execute_result"
    }
   ],
   "source": [
    "#----- THIS IS AN ARRAY A \n",
    "\n",
    "b = a[2:4]\n",
    "b              #Pass array a onto b"
   ]
  },
  {
   "cell_type": "code",
   "execution_count": 70,
   "id": "b81f266f",
   "metadata": {},
   "outputs": [
    {
     "data": {
      "text/plain": [
       "546"
      ]
     },
     "execution_count": 70,
     "metadata": {},
     "output_type": "execute_result"
    }
   ],
   "source": [
    "b[0]"
   ]
  },
  {
   "cell_type": "code",
   "execution_count": 72,
   "id": "39378dac",
   "metadata": {},
   "outputs": [
    {
     "data": {
      "text/plain": [
       "array([111, 111])"
      ]
     },
     "execution_count": 72,
     "metadata": {},
     "output_type": "execute_result"
    }
   ],
   "source": [
    "b[:] = 111\n",
    "b"
   ]
  },
  {
   "cell_type": "code",
   "execution_count": 62,
   "id": "b2309f6e",
   "metadata": {},
   "outputs": [
    {
     "data": {
      "text/plain": [
       "[111, 215]"
      ]
     },
     "execution_count": 62,
     "metadata": {},
     "output_type": "execute_result"
    }
   ],
   "source": [
    "b[0] = 111\n",
    "b"
   ]
  },
  {
   "cell_type": "code",
   "execution_count": 75,
   "id": "d9d79a85",
   "metadata": {},
   "outputs": [
    {
     "data": {
      "text/plain": [
       "array([ 2345,    27,   111,   111, -1234])"
      ]
     },
     "execution_count": 75,
     "metadata": {},
     "output_type": "execute_result"
    }
   ],
   "source": [
    "a        # Changing array b also change array a. "
   ]
  },
  {
   "cell_type": "markdown",
   "id": "6531ced4",
   "metadata": {},
   "source": [
    "### Note: \n",
    "\n",
    "When you slice a list you get the copy of the part of that list and when you make any changes to that slice, the original list stays the same. \n",
    "\n",
    "But with arrays when you slice it and you make any changes in the slice you created(which is not a copy actually) the original array changes too. \n",
    "\n",
    "So slicing in arrays is just like zooming in to a smaller fraction of the array and working on that fraction but when you zoom out you see that you were actually changing the original array."
   ]
  }
 ],
 "metadata": {
  "kernelspec": {
   "display_name": "Python 3 (ipykernel)",
   "language": "python",
   "name": "python3"
  },
  "language_info": {
   "codemirror_mode": {
    "name": "ipython",
    "version": 3
   },
   "file_extension": ".py",
   "mimetype": "text/x-python",
   "name": "python",
   "nbconvert_exporter": "python",
   "pygments_lexer": "ipython3",
   "version": "3.9.7"
  }
 },
 "nbformat": 4,
 "nbformat_minor": 5
}
