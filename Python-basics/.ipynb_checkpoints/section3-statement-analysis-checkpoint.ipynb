{
 "cells": [
  {
   "cell_type": "markdown",
   "metadata": {},
   "source": [
    "## Financial Statements Analysis"
   ]
  },
  {
   "cell_type": "code",
   "execution_count": 2,
   "metadata": {},
   "outputs": [],
   "source": [
    "#Data \n",
    "revenue = [14574.49, 7606.46, 8611.41, 9175.41, 8058.65, 8105.44, 11496.28, 9766.09, 10305.32, 14379.96, 10713.97, 15433.50]\n",
    "expenses = [12051.82, 5695.07, 12319.20, 12089.72, 8658.57, 840.20, 3285.73, 5821.12, 6976.93, 16618.61, 10054.37, 3803.96]"
   ]
  },
  {
   "cell_type": "code",
   "execution_count": 5,
   "metadata": {},
   "outputs": [
    {
     "data": {
      "text/plain": [
       "[2522.67,\n",
       " 1911.3900000000003,\n",
       " -3707.790000000001,\n",
       " -2914.3099999999995,\n",
       " -599.9200000000001,\n",
       " 7265.24,\n",
       " 8210.550000000001,\n",
       " 3944.9700000000003,\n",
       " 3328.3899999999994,\n",
       " -2238.6500000000015,\n",
       " 659.5999999999985,\n",
       " 11629.54]"
      ]
     },
     "execution_count": 5,
     "metadata": {},
     "output_type": "execute_result"
    }
   ],
   "source": [
    "profit = []\n",
    "\n",
    "for i in range (0, len(revenue)):\n",
    "    profit.append( revenue[i] - expenses[i])\n",
    "\n",
    "profit"
   ]
  },
  {
   "cell_type": "code",
   "execution_count": 6,
   "metadata": {},
   "outputs": [
    {
     "data": {
      "text/plain": [
       "[756.8,\n",
       " 573.42,\n",
       " -1112.34,\n",
       " -874.29,\n",
       " -179.98,\n",
       " 2179.57,\n",
       " 2463.17,\n",
       " 1183.49,\n",
       " 998.52,\n",
       " -671.6,\n",
       " 197.88,\n",
       " 3488.86]"
      ]
     },
     "execution_count": 6,
     "metadata": {},
     "output_type": "execute_result"
    }
   ],
   "source": [
    "#-- Calculating tax (profit * 30%)\n",
    "\n",
    "tax = [round(i * 0.3, 2) for i in profit]\n",
    "\n",
    "tax"
   ]
  },
  {
   "cell_type": "code",
   "execution_count": 8,
   "metadata": {},
   "outputs": [
    {
     "data": {
      "text/plain": [
       "[1765.8700000000001,\n",
       " 1337.9700000000003,\n",
       " -2595.4500000000007,\n",
       " -2040.0199999999995,\n",
       " -419.94000000000005,\n",
       " 5085.67,\n",
       " 5747.380000000001,\n",
       " 2761.4800000000005,\n",
       " 2329.8699999999994,\n",
       " -1567.0500000000015,\n",
       " 461.71999999999855,\n",
       " 8140.68]"
      ]
     },
     "execution_count": 8,
     "metadata": {},
     "output_type": "execute_result"
    }
   ],
   "source": [
    "#-- profit after tax\n",
    "profit_after_tax = []\n",
    "\n",
    "for i in range(0, len(profit)):\n",
    "    profit_after_tax.append(profit[i] - tax[i])\n",
    "\n",
    "profit_after_tax"
   ]
  },
  {
   "cell_type": "code",
   "execution_count": 11,
   "metadata": {},
   "outputs": [
    {
     "data": {
      "text/plain": [
       "[12.12,\n",
       " 17.59,\n",
       " -30.14,\n",
       " -22.23,\n",
       " -5.21,\n",
       " 62.74,\n",
       " 49.99,\n",
       " 28.28,\n",
       " 22.61,\n",
       " -10.9,\n",
       " 4.31,\n",
       " 52.75]"
      ]
     },
     "execution_count": 11,
     "metadata": {},
     "output_type": "execute_result"
    }
   ],
   "source": [
    "#-- Profit margin after tax\n",
    "\n",
    "profit_margin = []\n",
    "\n",
    "for i in range(0, len(profit)):\n",
    "    profit_margin.append(profit_after_tax[i]/revenue[i])\n",
    "    \n",
    "profit_margin = [round((i*100),2) for i in profit_margin]\n",
    "\n",
    "profit_margin"
   ]
  },
  {
   "cell_type": "code",
   "execution_count": 12,
   "metadata": {},
   "outputs": [
    {
     "data": {
      "text/plain": [
       "1750.6816666666666"
      ]
     },
     "execution_count": 12,
     "metadata": {},
     "output_type": "execute_result"
    }
   ],
   "source": [
    "#-- Profit margin after tax mean\n",
    "mean_pat = sum(profit_after_tax) / len(profit_after_tax)\n",
    "mean_pat"
   ]
  },
  {
   "cell_type": "code",
   "execution_count": 13,
   "metadata": {},
   "outputs": [
    {
     "data": {
      "text/plain": [
       "[True, False, False, False, False, True, True, True, True, False, False, True]"
      ]
     },
     "execution_count": 13,
     "metadata": {},
     "output_type": "execute_result"
    }
   ],
   "source": [
    "good_months = []\n",
    "for i in range(0, len(profit)):\n",
    "    good_months.append(profit_after_tax[i] > mean_pat)\n",
    "\n",
    "good_months"
   ]
  },
  {
   "cell_type": "code",
   "execution_count": 14,
   "metadata": {},
   "outputs": [
    {
     "data": {
      "text/plain": [
       "[False, True, True, True, True, False, False, False, False, True, True, False]"
      ]
     },
     "execution_count": 14,
     "metadata": {},
     "output_type": "execute_result"
    }
   ],
   "source": [
    "bad_months = []\n",
    "\n",
    "for i in range(0, len(profit)):\n",
    "    bad_months.append(profit_after_tax[i] < mean_pat)\n",
    "\n",
    "bad_months"
   ]
  },
  {
   "cell_type": "code",
   "execution_count": 15,
   "metadata": {},
   "outputs": [
    {
     "data": {
      "text/plain": [
       "[False,\n",
       " False,\n",
       " False,\n",
       " False,\n",
       " False,\n",
       " False,\n",
       " False,\n",
       " False,\n",
       " False,\n",
       " False,\n",
       " False,\n",
       " True]"
      ]
     },
     "execution_count": 15,
     "metadata": {},
     "output_type": "execute_result"
    }
   ],
   "source": [
    "best_month = []\n",
    "\n",
    "for i in range(0, len(profit)):\n",
    "    best_month.append(profit_after_tax[i] == max(profit_after_tax))\n",
    "    \n",
    "best_month"
   ]
  },
  {
   "cell_type": "code",
   "execution_count": 17,
   "metadata": {},
   "outputs": [
    {
     "data": {
      "text/plain": [
       "[False,\n",
       " False,\n",
       " True,\n",
       " False,\n",
       " False,\n",
       " False,\n",
       " False,\n",
       " False,\n",
       " False,\n",
       " False,\n",
       " False,\n",
       " False]"
      ]
     },
     "execution_count": 17,
     "metadata": {},
     "output_type": "execute_result"
    }
   ],
   "source": [
    "worst_month = []\n",
    "\n",
    "for i in range(0, len(profit)):\n",
    "    worst_month.append(profit_after_tax[i] == min(profit_after_tax))\n",
    "    \n",
    "worst_month"
   ]
  },
  {
   "cell_type": "code",
   "execution_count": 18,
   "metadata": {},
   "outputs": [],
   "source": [
    "#-- Convert all calculations to unites of one thousand dollars\n",
    "\n",
    "revenue_1000 = [round(i/1000, 2) for i in revenue]\n",
    "expenses_1000 = [round(i/1000, 2) for i in expenses]\n",
    "profit_1000 = [round(i/1000, 2) for i in profit]\n",
    "profit_after_tax_1000 = [round(i/1000, 2) for i in profit_after_tax]\n",
    "\n",
    "revenue_1000 = [int(i) for i in revenue_1000]\n",
    "expenses_1000 = [int(i) for i in expenses_1000]\n",
    "profit_1000 = [int(i) for i in profit_1000]\n",
    "profit_after_tax_1000 = [int(i) for i in profit_after_tax_1000]"
   ]
  },
  {
   "cell_type": "code",
   "execution_count": 31,
   "metadata": {},
   "outputs": [
    {
     "name": "stdout",
     "output_type": "stream",
     "text": [
      "Revenue:\n",
      "[14, 7, 8, 9, 8, 8, 11, 9, 10, 14, 10, 15]\n",
      "Expenses:\n",
      "[12, 5, 12, 12, 8, 0, 3, 5, 6, 16, 10, 3]\n",
      "Profit:\n",
      "[2, 1, -3, -2, 0, 7, 8, 3, 3, -2, 0, 11]\n",
      "Profit after tax:\n",
      "[1, 1, -2, -2, 0, 5, 5, 2, 2, -1, 0, 8]\n",
      "Profit magin:\n",
      "[12.12, 17.59, -30.14, -22.23, -5.21, 62.74, 49.99, 28.28, 22.61, -10.9, 4.31, 52.75]\n",
      "Good months:\n",
      "[True, False, False, False, False, True, True, True, True, False, False, True]\n",
      "Bad months:\n",
      "[False, True, True, True, True, False, False, False, False, True, True, False]\n",
      "Best month:\n",
      "[False, False, False, False, False, False, False, False, False, False, False, True]\n",
      "Worst month:\n",
      "[False, False, True, False, False, False, False, False, False, False, False, False]\n"
     ]
    }
   ],
   "source": [
    "print(f\"Revenue:\\n{revenue_1000}\")\n",
    "print(f\"Expenses:\\n{expenses_1000}\")\n",
    "print(f\"Profit:\\n{profit_1000}\")\n",
    "print(f\"Profit after tax:\\n{profit_after_tax_1000}\")\n",
    "print(f\"Profit magin:\\n{profit_margin}\")\n",
    "\n",
    "print(f\"Good months:\\n{good_months}\")\n",
    "print(f\"Bad months:\\n{bad_months}\")\n",
    "print(f\"Best month:\\n{best_month}\")\n",
    "print(f\"Worst month:\\n{worst_month}\")"
   ]
  },
  {
   "cell_type": "markdown",
   "metadata": {},
   "source": [
    "------"
   ]
  },
  {
   "cell_type": "markdown",
   "metadata": {},
   "source": [
    "## Numpy Approach"
   ]
  },
  {
   "cell_type": "code",
   "execution_count": 33,
   "metadata": {},
   "outputs": [
    {
     "name": "stdout",
     "output_type": "stream",
     "text": [
      "Revenue:  [15.  8.  9.  9.  8.  8. 11. 10. 10. 14. 11. 15.]\n",
      "Expenses:  [12.  6. 12. 12.  9.  1.  3.  6.  7. 17. 10.  4.]\n",
      "Profit before tax:  [ 3.  2. -4. -3. -1.  7.  8.  4.  3. -2.  1. 12.]\n",
      "Profit after Tax:  [ 2.  1. -3. -2. -0.  5.  6.  3.  2. -2.  0.  8.]\n",
      "Margine:  [ 12.1162  17.59   -30.1397 -22.2335  -5.2111  62.7439  49.9934  28.2762\n",
      "  22.6084 -10.8975   4.3095  52.7468]\n",
      "Mean for the year:  1.7507\n",
      "Good months:  [ True False False False False  True  True  True  True False False  True]\n",
      "Bad months:  [False  True  True  True  True False False False False  True  True False]\n",
      "Best month:  [False False False False False False False False False False False  True]\n",
      "Worst month:  [False False  True False False False False False False False False False]\n"
     ]
    }
   ],
   "source": [
    "#Impoty numpy\n",
    "import numpy as np\n",
    "\n",
    "#Conver lists into arrays\n",
    "rev = np.array(revenue)\n",
    "exp = np.array(expenses)\n",
    "\n",
    "#profit for each month\n",
    "profit = rev - exp\n",
    "\n",
    "#after tax profit\n",
    "aftax = profit * .7\n",
    "\n",
    "#Margine for each month\n",
    "margine = aftax / rev * 100\n",
    "\n",
    "#Mean for the year\n",
    "ymean = np.mean(aftax)\n",
    "\n",
    "#Good Months\n",
    "gmonths = aftax > ymean\n",
    "\n",
    "#Bad Months\n",
    "bmonths = aftax < ymean\n",
    "\n",
    "#Best month\n",
    "best = aftax == np.max(aftax)\n",
    "\n",
    "#Worst month\n",
    "worst = aftax == np.min(aftax)\n",
    "\n",
    "#Print everything\n",
    "print(\"Revenue: \", np.round(rev / 1000))\n",
    "print(\"Expenses: \", np.round(exp / 1000))\n",
    "print(\"Profit before tax: \", np.round(profit / 1000))\n",
    "print(\"Profit after Tax: \", np.round(aftax / 1000))\n",
    "print(\"Margine: \", np.round(margine, 4))\n",
    "print(\"Mean for the year: \", np.round(ymean / 1000, 4))\n",
    "print(\"Good months: \", gmonths)\n",
    "print(\"Bad months: \", bmonths)\n",
    "print(\"Best month: \", best)\n",
    "print(\"Worst month: \", worst)"
   ]
  }
 ],
 "metadata": {
  "kernelspec": {
   "display_name": "Python 3 (ipykernel)",
   "language": "python",
   "name": "python3"
  },
  "language_info": {
   "codemirror_mode": {
    "name": "ipython",
    "version": 3
   },
   "file_extension": ".py",
   "mimetype": "text/x-python",
   "name": "python",
   "nbconvert_exporter": "python",
   "pygments_lexer": "ipython3",
   "version": "3.9.7"
  }
 },
 "nbformat": 4,
 "nbformat_minor": 1
}
