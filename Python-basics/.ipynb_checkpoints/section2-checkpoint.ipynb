{
 "cells": [
  {
   "cell_type": "markdown",
   "id": "802cf82d",
   "metadata": {},
   "source": [
    "## Types of variables"
   ]
  },
  {
   "cell_type": "code",
   "execution_count": 2,
   "id": "f348e43e",
   "metadata": {},
   "outputs": [
    {
     "data": {
      "text/plain": [
       "2"
      ]
     },
     "execution_count": 2,
     "metadata": {},
     "output_type": "execute_result"
    }
   ],
   "source": [
    "#Integer\n",
    "x = 2\n",
    "x"
   ]
  },
  {
   "cell_type": "code",
   "execution_count": 4,
   "id": "a0d5e81d",
   "metadata": {},
   "outputs": [
    {
     "data": {
      "text/plain": [
       "int"
      ]
     },
     "execution_count": 4,
     "metadata": {},
     "output_type": "execute_result"
    }
   ],
   "source": [
    "type(x)"
   ]
  },
  {
   "cell_type": "code",
   "execution_count": 7,
   "id": "01a52420",
   "metadata": {},
   "outputs": [
    {
     "data": {
      "text/plain": [
       "2.5"
      ]
     },
     "execution_count": 7,
     "metadata": {},
     "output_type": "execute_result"
    }
   ],
   "source": [
    "#float/double\n",
    "y = 2.5\n",
    "y"
   ]
  },
  {
   "cell_type": "code",
   "execution_count": 8,
   "id": "ab06d905",
   "metadata": {},
   "outputs": [
    {
     "data": {
      "text/plain": [
       "float"
      ]
     },
     "execution_count": 8,
     "metadata": {},
     "output_type": "execute_result"
    }
   ],
   "source": [
    "type(y)"
   ]
  },
  {
   "cell_type": "code",
   "execution_count": 11,
   "id": "c9e740a7",
   "metadata": {},
   "outputs": [
    {
     "data": {
      "text/plain": [
       "'Hello'"
      ]
     },
     "execution_count": 11,
     "metadata": {},
     "output_type": "execute_result"
    }
   ],
   "source": [
    "#String\n",
    "a = \"Hello\"\n",
    "a"
   ]
  },
  {
   "cell_type": "code",
   "execution_count": 12,
   "id": "9d974296",
   "metadata": {},
   "outputs": [
    {
     "data": {
      "text/plain": [
       "str"
      ]
     },
     "execution_count": 12,
     "metadata": {},
     "output_type": "execute_result"
    }
   ],
   "source": [
    "type(a)"
   ]
  },
  {
   "cell_type": "code",
   "execution_count": 14,
   "id": "ceb2029a",
   "metadata": {},
   "outputs": [
    {
     "data": {
      "text/plain": [
       "True"
      ]
     },
     "execution_count": 14,
     "metadata": {},
     "output_type": "execute_result"
    }
   ],
   "source": [
    "#Logical\n",
    "q1 = True\n",
    "q1"
   ]
  },
  {
   "cell_type": "code",
   "execution_count": 15,
   "id": "893e395f",
   "metadata": {},
   "outputs": [
    {
     "data": {
      "text/plain": [
       "bool"
      ]
     },
     "execution_count": 15,
     "metadata": {},
     "output_type": "execute_result"
    }
   ],
   "source": [
    "type(q1)"
   ]
  },
  {
   "cell_type": "markdown",
   "id": "3df6302e",
   "metadata": {},
   "source": [
    "---"
   ]
  },
  {
   "cell_type": "markdown",
   "id": "93ccab72",
   "metadata": {},
   "source": [
    "## Using variables"
   ]
  },
  {
   "cell_type": "code",
   "execution_count": 18,
   "id": "8c156200",
   "metadata": {},
   "outputs": [],
   "source": [
    "A = 10\n",
    "B = 5"
   ]
  },
  {
   "cell_type": "code",
   "execution_count": 22,
   "id": "9067a5a5",
   "metadata": {},
   "outputs": [
    {
     "name": "stdout",
     "output_type": "stream",
     "text": [
      "15\n"
     ]
    }
   ],
   "source": [
    "C = A + B\n",
    "\n",
    "print(C)"
   ]
  },
  {
   "cell_type": "code",
   "execution_count": 23,
   "id": "48493bac",
   "metadata": {},
   "outputs": [
    {
     "name": "stdout",
     "output_type": "stream",
     "text": [
      "0.5\n"
     ]
    }
   ],
   "source": [
    "D = B/A\n",
    "\n",
    "print(D)"
   ]
  },
  {
   "cell_type": "code",
   "execution_count": null,
   "id": "c70be3a0",
   "metadata": {},
   "outputs": [],
   "source": [
    "# Why is it better to use print() than just printing the number"
   ]
  },
  {
   "cell_type": "code",
   "execution_count": 24,
   "id": "d1dbcc8b",
   "metadata": {},
   "outputs": [
    {
     "data": {
      "text/plain": [
       "0.5"
      ]
     },
     "execution_count": 24,
     "metadata": {},
     "output_type": "execute_result"
    }
   ],
   "source": [
    "C\n",
    "D  #Both are not printed, only D is printed"
   ]
  },
  {
   "cell_type": "code",
   "execution_count": 26,
   "id": "1b694b6c",
   "metadata": {},
   "outputs": [
    {
     "name": "stdout",
     "output_type": "stream",
     "text": [
      "15\n",
      "0.5\n"
     ]
    }
   ],
   "source": [
    "print(C)\n",
    "print(D)  #Both are printed"
   ]
  },
  {
   "cell_type": "code",
   "execution_count": 27,
   "id": "6caed859",
   "metadata": {},
   "outputs": [],
   "source": [
    "import math"
   ]
  },
  {
   "cell_type": "code",
   "execution_count": 30,
   "id": "d573348b",
   "metadata": {},
   "outputs": [
    {
     "data": {
      "text/plain": [
       "3.1622776601683795"
      ]
     },
     "execution_count": 30,
     "metadata": {},
     "output_type": "execute_result"
    }
   ],
   "source": [
    "math.sqrt(A)"
   ]
  },
  {
   "cell_type": "code",
   "execution_count": 33,
   "id": "c32bcb00",
   "metadata": {},
   "outputs": [
    {
     "data": {
      "text/plain": [
       "3.16"
      ]
     },
     "execution_count": 33,
     "metadata": {},
     "output_type": "execute_result"
    }
   ],
   "source": [
    "round(math.sqrt(A),2)"
   ]
  },
  {
   "cell_type": "code",
   "execution_count": 34,
   "id": "03c71474",
   "metadata": {},
   "outputs": [],
   "source": [
    "greeting = 'Hello'\n",
    "name = 'Nhi'"
   ]
  },
  {
   "cell_type": "code",
   "execution_count": 35,
   "id": "5f343006",
   "metadata": {},
   "outputs": [
    {
     "name": "stdout",
     "output_type": "stream",
     "text": [
      "Hello Nhi\n"
     ]
    }
   ],
   "source": [
    "message = greeting + \" \" + name\n",
    "print(message)"
   ]
  },
  {
   "cell_type": "markdown",
   "id": "b05547a2",
   "metadata": {},
   "source": [
    "---"
   ]
  },
  {
   "cell_type": "markdown",
   "id": "0b7a6873",
   "metadata": {},
   "source": [
    "## Boolean variables and operators"
   ]
  },
  {
   "cell_type": "code",
   "execution_count": 40,
   "id": "cc9c8dbe",
   "metadata": {},
   "outputs": [
    {
     "data": {
      "text/plain": [
       "True"
      ]
     },
     "execution_count": 40,
     "metadata": {},
     "output_type": "execute_result"
    }
   ],
   "source": [
    "result = 4 < 5\n",
    "result"
   ]
  },
  {
   "cell_type": "code",
   "execution_count": 41,
   "id": "4aabddde",
   "metadata": {},
   "outputs": [
    {
     "data": {
      "text/plain": [
       "False"
      ]
     },
     "execution_count": 41,
     "metadata": {},
     "output_type": "execute_result"
    }
   ],
   "source": [
    "result2 = not(5>1)\n",
    "result2"
   ]
  },
  {
   "cell_type": "code",
   "execution_count": 42,
   "id": "7bdbfd7f",
   "metadata": {},
   "outputs": [
    {
     "data": {
      "text/plain": [
       "True"
      ]
     },
     "execution_count": 42,
     "metadata": {},
     "output_type": "execute_result"
    }
   ],
   "source": [
    "result or result2"
   ]
  },
  {
   "cell_type": "code",
   "execution_count": 44,
   "id": "08f7d38c",
   "metadata": {},
   "outputs": [
    {
     "data": {
      "text/plain": [
       "False"
      ]
     },
     "execution_count": 44,
     "metadata": {},
     "output_type": "execute_result"
    }
   ],
   "source": [
    "result and result2"
   ]
  },
  {
   "cell_type": "markdown",
   "id": "b4cbd8d5",
   "metadata": {},
   "source": [
    "---"
   ]
  },
  {
   "cell_type": "markdown",
   "id": "f6a6a9c6",
   "metadata": {},
   "source": [
    "## While Loop"
   ]
  },
  {
   "cell_type": "code",
   "execution_count": null,
   "id": "65b653fa",
   "metadata": {},
   "outputs": [],
   "source": []
  }
 ],
 "metadata": {
  "kernelspec": {
   "display_name": "Python 3 (ipykernel)",
   "language": "python",
   "name": "python3"
  },
  "language_info": {
   "codemirror_mode": {
    "name": "ipython",
    "version": 3
   },
   "file_extension": ".py",
   "mimetype": "text/x-python",
   "name": "python",
   "nbconvert_exporter": "python",
   "pygments_lexer": "ipython3",
   "version": "3.9.7"
  }
 },
 "nbformat": 4,
 "nbformat_minor": 5
}
